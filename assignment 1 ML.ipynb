{
 "cells": [
  {
   "cell_type": "markdown",
   "id": "fa7163a5",
   "metadata": {},
   "source": [
    "\n",
    "1. What does one mean by the term \"machine learning\"?\n",
    "Machine learning is a subset of artificial intelligence (AI) that involves the development of algorithms and statistical models that enable computers to perform specific tasks without using explicit instructions. Instead, these systems rely on patterns and inference derived from data to improve their performance over time."
   ]
  },
  {
   "cell_type": "markdown",
   "id": "43bc78af",
   "metadata": {},
   "source": [
    "\n",
    "2. Can you think of 4 distinct issues where it shines?\n",
    "Image and Speech Recognition: Machine learning excels in identifying objects and understanding spoken language through techniques such as convolutional neural networks (CNNs) for image recognition and recurrent neural networks (RNNs) for speech recognition.\n",
    "Natural Language Processing (NLP): Tasks like sentiment analysis, language translation, and chatbots benefit greatly from machine learning models.\n",
    "Predictive Analytics: Machine learning is used in financial markets for stock price prediction, in healthcare for predicting disease outbreaks, and in various industries for demand forecasting.\n",
    "Recommendation Systems: Online services like Amazon, Netflix, and Spotify use machine learning to recommend products, movies, or music based on user preferences and behavior."
   ]
  },
  {
   "cell_type": "markdown",
   "id": "c0d96fef",
   "metadata": {},
   "source": [
    "3. What is a labelled training set, and how does it work?\n",
    "A labelled training set is a dataset that includes both the input data and the corresponding output or label. For example, in a dataset for image classification, the input would be images, and the labels would be the categories those images belong to (e.g., \"cat,\" \"dog\"). During training, a machine learning algorithm uses this labelled data to learn the relationship between inputs and outputs, which it can then use to make predictions on new, unseen data."
   ]
  },
  {
   "cell_type": "markdown",
   "id": "94443377",
   "metadata": {},
   "source": [
    "4. What are the two most important tasks that are supervised?\n",
    "Classification: Assigning input data into predefined categories or labels. Examples include spam detection in emails and image recognition.\n",
    "Regression: Predicting continuous numerical values based on input data. Examples include predicting house prices or stock prices."
   ]
  },
  {
   "cell_type": "markdown",
   "id": "6500f167",
   "metadata": {},
   "source": [
    "5. Can you think of four examples of unsupervised tasks?\n",
    "Clustering: Grouping similar data points together, such as customer segmentation in marketing.\n",
    "Dimensionality Reduction: Reducing the number of features in a dataset while retaining its essential structure, such as using Principal Component Analysis (PCA).\n",
    "Anomaly Detection: Identifying rare items or events that do not conform to the expected pattern, such as fraud detection in finance.\n",
    "Association Rule Learning: Discovering interesting relations between variables in large databases, such as market basket analysis in retail."
   ]
  },
  {
   "cell_type": "markdown",
   "id": "0e241b29",
   "metadata": {},
   "source": [
    "6. State the machine learning model that would be best to make a robot walk through various unfamiliar terrains.\n",
    "Reinforcement Learning is the most suitable machine learning model for this task. It involves training the robot to make sequences of decisions by rewarding desired actions and penalizing undesired ones, enabling the robot to learn optimal paths and behaviors through trial and error."
   ]
  },
  {
   "cell_type": "markdown",
   "id": "3cfef22f",
   "metadata": {},
   "source": [
    "7. Which algorithm will you use to divide your customers into different groups?\n",
    "Clustering algorithms such as K-means clustering or hierarchical clustering would be used to divide customers into different groups based on their behavior, preferences, or other attributes."
   ]
  },
  {
   "cell_type": "markdown",
   "id": "57b6b272",
   "metadata": {},
   "source": [
    "8. Will you consider the problem of spam detection to be a supervised or unsupervised learning problem?\n",
    "Spam detection is typically considered a supervised learning problem because it involves training a model on a labelled dataset where emails are marked as \"spam\" or \"not spam.\""
   ]
  },
  {
   "cell_type": "markdown",
   "id": "e5827fc5",
   "metadata": {},
   "source": [
    "9. What is the concept of an online learning system?\n",
    "An online learning system is a model that learns incrementally by processing each training instance one at a time. This allows the model to adapt to new data on-the-fly, making it suitable for applications where data arrives continuously, such as stock price prediction or real-time recommendation systems."
   ]
  },
  {
   "cell_type": "markdown",
   "id": "2a02f332",
   "metadata": {},
   "source": [
    "10. What is out-of-core learning, and how does it differ from core learning?\n",
    "Out-of-core learning refers to training machine learning algorithms on datasets that are too large to fit into a computer's main memory (RAM). It uses external memory, such as disk storage, and processes data in mini-batches. In contrast, core learning involves training on datasets that fit entirely in memory."
   ]
  },
  {
   "cell_type": "markdown",
   "id": "074d3e18",
   "metadata": {},
   "source": [
    "11. What kind of learning algorithm makes predictions using a similarity measure?\n",
    "Instance-based learning algorithms, such as k-nearest neighbors (KNN), make predictions based on the similarity between new instances and the instances in the training dataset."
   ]
  },
  {
   "cell_type": "markdown",
   "id": "4dc48bde",
   "metadata": {},
   "source": [
    "12. What's the difference between a model parameter and a hyperparameter in a learning algorithm?\n",
    "Model Parameters: These are internal variables of the model that are learned from the training data. Examples include the weights in a neural network or the coefficients in a linear regression model.\n",
    "Hyperparameters: These are external configurations set by the practitioner before training begins. They are not learned from the data but rather set to control the learning process, such as the learning rate, the number of trees in a random forest, or the number of clusters in K-means."
   ]
  },
  {
   "cell_type": "markdown",
   "id": "c5cdf5d3",
   "metadata": {},
   "source": [
    "13. What are the criteria that model-based learning algorithms look for? What is the most popular method they use to achieve success? What method do they use to make predictions?\n",
    "Model-based learning algorithms look for a good fit between the model and the training data by optimizing a performance measure (e.g., minimizing the error). The most popular method to achieve success is minimizing a cost function (e.g., Mean Squared Error for regression tasks). For making predictions, they typically use a learned function \n",
    "𝑓\n",
    "(\n",
    "𝑥\n",
    ")\n",
    "f(x) to map input \n",
    "𝑥\n",
    "x to output \n",
    "𝑦\n",
    "y.\n",
    "\n",
    "\n",
    "\n",
    "\n",
    "\n",
    "\n"
   ]
  }
 ],
 "metadata": {
  "kernelspec": {
   "display_name": "Python 3 (ipykernel)",
   "language": "python",
   "name": "python3"
  },
  "language_info": {
   "codemirror_mode": {
    "name": "ipython",
    "version": 3
   },
   "file_extension": ".py",
   "mimetype": "text/x-python",
   "name": "python",
   "nbconvert_exporter": "python",
   "pygments_lexer": "ipython3",
   "version": "3.11.5"
  }
 },
 "nbformat": 4,
 "nbformat_minor": 5
}
